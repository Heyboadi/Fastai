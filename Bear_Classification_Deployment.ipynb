{
  "nbformat": 4,
  "nbformat_minor": 0,
  "metadata": {
    "colab": {
      "provenance": []
    },
    "kernelspec": {
      "name": "python3",
      "display_name": "Python 3"
    },
    "language_info": {
      "name": "python"
    },
    "widgets": {
      "application/vnd.jupyter.widget-state+json": {
        "84198565f5c14a06b481eecd1b0dd1bb": {
          "model_module": "@jupyter-widgets/controls",
          "model_name": "VBoxModel",
          "model_module_version": "1.5.0",
          "state": {
            "_dom_classes": [],
            "_model_module": "@jupyter-widgets/controls",
            "_model_module_version": "1.5.0",
            "_model_name": "VBoxModel",
            "_view_count": null,
            "_view_module": "@jupyter-widgets/controls",
            "_view_module_version": "1.5.0",
            "_view_name": "VBoxView",
            "box_style": "",
            "children": [
              "IPY_MODEL_516ca567503642a984422954eee99c67",
              "IPY_MODEL_0d906c7854df45a1af946860ad0a5864",
              "IPY_MODEL_6418b6575e3643bcb375b906c96dbb6a",
              "IPY_MODEL_7df6ecf46a4f4bd1b6b9787bd927991e"
            ],
            "layout": "IPY_MODEL_1519b7510b2e46c6a7864dae53e8ba84"
          }
        },
        "516ca567503642a984422954eee99c67": {
          "model_module": "@jupyter-widgets/controls",
          "model_name": "LabelModel",
          "model_module_version": "1.5.0",
          "state": {
            "_dom_classes": [],
            "_model_module": "@jupyter-widgets/controls",
            "_model_module_version": "1.5.0",
            "_model_name": "LabelModel",
            "_view_count": null,
            "_view_module": "@jupyter-widgets/controls",
            "_view_module_version": "1.5.0",
            "_view_name": "LabelView",
            "description": "",
            "description_tooltip": null,
            "layout": "IPY_MODEL_17d25682888f44e7aac0cbc59ddcadee",
            "placeholder": "​",
            "style": "IPY_MODEL_0a5465d7380b4367928414e2896c0936",
            "value": "Select your bear!"
          }
        },
        "0d906c7854df45a1af946860ad0a5864": {
          "model_module": "@jupyter-widgets/controls",
          "model_name": "FileUploadModel",
          "model_module_version": "1.5.0",
          "state": {
            "_counter": 1,
            "_dom_classes": [],
            "_model_module": "@jupyter-widgets/controls",
            "_model_module_version": "1.5.0",
            "_model_name": "FileUploadModel",
            "_view_count": null,
            "_view_module": "@jupyter-widgets/controls",
            "_view_module_version": "1.5.0",
            "_view_name": "FileUploadView",
            "accept": "",
            "button_style": "",
            "data": [
              null
            ],
            "description": "Upload",
            "description_tooltip": null,
            "disabled": false,
            "error": "",
            "icon": "upload",
            "layout": "IPY_MODEL_ae30d8f4d185491eb919907fffb46072",
            "metadata": [
              {
                "name": "download.jpg",
                "type": "image/jpeg",
                "size": 6724,
                "lastModified": 1728730419727
              }
            ],
            "multiple": false,
            "style": "IPY_MODEL_c4d3ee090ac04ee6a26c3a394fef40fd"
          }
        },
        "6418b6575e3643bcb375b906c96dbb6a": {
          "model_module": "@jupyter-widgets/output",
          "model_name": "OutputModel",
          "model_module_version": "1.0.0",
          "state": {
            "_dom_classes": [],
            "_model_module": "@jupyter-widgets/output",
            "_model_module_version": "1.0.0",
            "_model_name": "OutputModel",
            "_view_count": null,
            "_view_module": "@jupyter-widgets/output",
            "_view_module_version": "1.0.0",
            "_view_name": "OutputView",
            "layout": "IPY_MODEL_ae7fcee0efaf48208d8515f7e25b250e",
            "msg_id": "",
            "outputs": [
              {
                "output_type": "display_data",
                "data": {
                  "text/plain": "<PIL.Image.Image image mode=RGB size=128x85>",
                  "image/png": "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\n",
                  "image/jpeg": "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\n"
                },
                "metadata": {}
              }
            ]
          }
        },
        "7df6ecf46a4f4bd1b6b9787bd927991e": {
          "model_module": "@jupyter-widgets/controls",
          "model_name": "LabelModel",
          "model_module_version": "1.5.0",
          "state": {
            "_dom_classes": [],
            "_model_module": "@jupyter-widgets/controls",
            "_model_module_version": "1.5.0",
            "_model_name": "LabelModel",
            "_view_count": null,
            "_view_module": "@jupyter-widgets/controls",
            "_view_module_version": "1.5.0",
            "_view_name": "LabelView",
            "description": "",
            "description_tooltip": null,
            "layout": "IPY_MODEL_d4548cd89f1b48dfa8f1e7e7f260723c",
            "placeholder": "​",
            "style": "IPY_MODEL_2b35cf79614a4223817882861657d5ad",
            "value": "Prediction: grizzly; Probability: 0.9996"
          }
        },
        "1519b7510b2e46c6a7864dae53e8ba84": {
          "model_module": "@jupyter-widgets/base",
          "model_name": "LayoutModel",
          "model_module_version": "1.2.0",
          "state": {
            "_model_module": "@jupyter-widgets/base",
            "_model_module_version": "1.2.0",
            "_model_name": "LayoutModel",
            "_view_count": null,
            "_view_module": "@jupyter-widgets/base",
            "_view_module_version": "1.2.0",
            "_view_name": "LayoutView",
            "align_content": null,
            "align_items": null,
            "align_self": null,
            "border": null,
            "bottom": null,
            "display": null,
            "flex": null,
            "flex_flow": null,
            "grid_area": null,
            "grid_auto_columns": null,
            "grid_auto_flow": null,
            "grid_auto_rows": null,
            "grid_column": null,
            "grid_gap": null,
            "grid_row": null,
            "grid_template_areas": null,
            "grid_template_columns": null,
            "grid_template_rows": null,
            "height": null,
            "justify_content": null,
            "justify_items": null,
            "left": null,
            "margin": null,
            "max_height": null,
            "max_width": null,
            "min_height": null,
            "min_width": null,
            "object_fit": null,
            "object_position": null,
            "order": null,
            "overflow": null,
            "overflow_x": null,
            "overflow_y": null,
            "padding": null,
            "right": null,
            "top": null,
            "visibility": null,
            "width": null
          }
        },
        "17d25682888f44e7aac0cbc59ddcadee": {
          "model_module": "@jupyter-widgets/base",
          "model_name": "LayoutModel",
          "model_module_version": "1.2.0",
          "state": {
            "_model_module": "@jupyter-widgets/base",
            "_model_module_version": "1.2.0",
            "_model_name": "LayoutModel",
            "_view_count": null,
            "_view_module": "@jupyter-widgets/base",
            "_view_module_version": "1.2.0",
            "_view_name": "LayoutView",
            "align_content": null,
            "align_items": null,
            "align_self": null,
            "border": null,
            "bottom": null,
            "display": null,
            "flex": null,
            "flex_flow": null,
            "grid_area": null,
            "grid_auto_columns": null,
            "grid_auto_flow": null,
            "grid_auto_rows": null,
            "grid_column": null,
            "grid_gap": null,
            "grid_row": null,
            "grid_template_areas": null,
            "grid_template_columns": null,
            "grid_template_rows": null,
            "height": null,
            "justify_content": null,
            "justify_items": null,
            "left": null,
            "margin": null,
            "max_height": null,
            "max_width": null,
            "min_height": null,
            "min_width": null,
            "object_fit": null,
            "object_position": null,
            "order": null,
            "overflow": null,
            "overflow_x": null,
            "overflow_y": null,
            "padding": null,
            "right": null,
            "top": null,
            "visibility": null,
            "width": null
          }
        },
        "0a5465d7380b4367928414e2896c0936": {
          "model_module": "@jupyter-widgets/controls",
          "model_name": "DescriptionStyleModel",
          "model_module_version": "1.5.0",
          "state": {
            "_model_module": "@jupyter-widgets/controls",
            "_model_module_version": "1.5.0",
            "_model_name": "DescriptionStyleModel",
            "_view_count": null,
            "_view_module": "@jupyter-widgets/base",
            "_view_module_version": "1.2.0",
            "_view_name": "StyleView",
            "description_width": ""
          }
        },
        "ae30d8f4d185491eb919907fffb46072": {
          "model_module": "@jupyter-widgets/base",
          "model_name": "LayoutModel",
          "model_module_version": "1.2.0",
          "state": {
            "_model_module": "@jupyter-widgets/base",
            "_model_module_version": "1.2.0",
            "_model_name": "LayoutModel",
            "_view_count": null,
            "_view_module": "@jupyter-widgets/base",
            "_view_module_version": "1.2.0",
            "_view_name": "LayoutView",
            "align_content": null,
            "align_items": null,
            "align_self": null,
            "border": null,
            "bottom": null,
            "display": null,
            "flex": null,
            "flex_flow": null,
            "grid_area": null,
            "grid_auto_columns": null,
            "grid_auto_flow": null,
            "grid_auto_rows": null,
            "grid_column": null,
            "grid_gap": null,
            "grid_row": null,
            "grid_template_areas": null,
            "grid_template_columns": null,
            "grid_template_rows": null,
            "height": null,
            "justify_content": null,
            "justify_items": null,
            "left": null,
            "margin": null,
            "max_height": null,
            "max_width": null,
            "min_height": null,
            "min_width": null,
            "object_fit": null,
            "object_position": null,
            "order": null,
            "overflow": null,
            "overflow_x": null,
            "overflow_y": null,
            "padding": null,
            "right": null,
            "top": null,
            "visibility": null,
            "width": null
          }
        },
        "c4d3ee090ac04ee6a26c3a394fef40fd": {
          "model_module": "@jupyter-widgets/controls",
          "model_name": "ButtonStyleModel",
          "model_module_version": "1.5.0",
          "state": {
            "_model_module": "@jupyter-widgets/controls",
            "_model_module_version": "1.5.0",
            "_model_name": "ButtonStyleModel",
            "_view_count": null,
            "_view_module": "@jupyter-widgets/base",
            "_view_module_version": "1.2.0",
            "_view_name": "StyleView",
            "button_color": null,
            "font_weight": ""
          }
        },
        "d4548cd89f1b48dfa8f1e7e7f260723c": {
          "model_module": "@jupyter-widgets/base",
          "model_name": "LayoutModel",
          "model_module_version": "1.2.0",
          "state": {
            "_model_module": "@jupyter-widgets/base",
            "_model_module_version": "1.2.0",
            "_model_name": "LayoutModel",
            "_view_count": null,
            "_view_module": "@jupyter-widgets/base",
            "_view_module_version": "1.2.0",
            "_view_name": "LayoutView",
            "align_content": null,
            "align_items": null,
            "align_self": null,
            "border": null,
            "bottom": null,
            "display": null,
            "flex": null,
            "flex_flow": null,
            "grid_area": null,
            "grid_auto_columns": null,
            "grid_auto_flow": null,
            "grid_auto_rows": null,
            "grid_column": null,
            "grid_gap": null,
            "grid_row": null,
            "grid_template_areas": null,
            "grid_template_columns": null,
            "grid_template_rows": null,
            "height": null,
            "justify_content": null,
            "justify_items": null,
            "left": null,
            "margin": null,
            "max_height": null,
            "max_width": null,
            "min_height": null,
            "min_width": null,
            "object_fit": null,
            "object_position": null,
            "order": null,
            "overflow": null,
            "overflow_x": null,
            "overflow_y": null,
            "padding": null,
            "right": null,
            "top": null,
            "visibility": null,
            "width": null
          }
        },
        "2b35cf79614a4223817882861657d5ad": {
          "model_module": "@jupyter-widgets/controls",
          "model_name": "DescriptionStyleModel",
          "model_module_version": "1.5.0",
          "state": {
            "_model_module": "@jupyter-widgets/controls",
            "_model_module_version": "1.5.0",
            "_model_name": "DescriptionStyleModel",
            "_view_count": null,
            "_view_module": "@jupyter-widgets/base",
            "_view_module_version": "1.2.0",
            "_view_name": "StyleView",
            "description_width": ""
          }
        },
        "ae7fcee0efaf48208d8515f7e25b250e": {
          "model_module": "@jupyter-widgets/base",
          "model_name": "LayoutModel",
          "model_module_version": "1.2.0",
          "state": {
            "_model_module": "@jupyter-widgets/base",
            "_model_module_version": "1.2.0",
            "_model_name": "LayoutModel",
            "_view_count": null,
            "_view_module": "@jupyter-widgets/base",
            "_view_module_version": "1.2.0",
            "_view_name": "LayoutView",
            "align_content": null,
            "align_items": null,
            "align_self": null,
            "border": null,
            "bottom": null,
            "display": null,
            "flex": null,
            "flex_flow": null,
            "grid_area": null,
            "grid_auto_columns": null,
            "grid_auto_flow": null,
            "grid_auto_rows": null,
            "grid_column": null,
            "grid_gap": null,
            "grid_row": null,
            "grid_template_areas": null,
            "grid_template_columns": null,
            "grid_template_rows": null,
            "height": null,
            "justify_content": null,
            "justify_items": null,
            "left": null,
            "margin": null,
            "max_height": null,
            "max_width": null,
            "min_height": null,
            "min_width": null,
            "object_fit": null,
            "object_position": null,
            "order": null,
            "overflow": null,
            "overflow_x": null,
            "overflow_y": null,
            "padding": null,
            "right": null,
            "top": null,
            "visibility": null,
            "width": null
          }
        }
      }
    }
  },
  "cells": [
    {
      "cell_type": "code",
      "source": [
        "from fastai.vision.all import *\n",
        "from fastai.vision.widgets import *"
      ],
      "metadata": {
        "id": "VxCltRi9FV1D"
      },
      "execution_count": 1,
      "outputs": []
    },
    {
      "cell_type": "code",
      "execution_count": 2,
      "metadata": {
        "colab": {
          "base_uri": "https://localhost:8080/"
        },
        "id": "255DuEmjCsY_",
        "outputId": "814be6d8-41a2-4b1c-d17f-a9e7a33dfbbe"
      },
      "outputs": [
        {
          "output_type": "stream",
          "name": "stdout",
          "text": [
            "Collecting voila\n",
            "  Downloading voila-0.5.7-py3-none-any.whl.metadata (9.1 kB)\n",
            "Collecting jupyter-client<9,>=7.4.4 (from voila)\n",
            "  Downloading jupyter_client-8.6.3-py3-none-any.whl.metadata (8.3 kB)\n",
            "Requirement already satisfied: jupyter-core>=4.11.0 in /usr/local/lib/python3.10/dist-packages (from voila) (5.7.2)\n",
            "Collecting jupyter-server<3,>=2.0.0 (from voila)\n",
            "  Downloading jupyter_server-2.14.2-py3-none-any.whl.metadata (8.4 kB)\n",
            "Collecting jupyterlab-server<3,>=2.3.0 (from voila)\n",
            "  Downloading jupyterlab_server-2.27.3-py3-none-any.whl.metadata (5.9 kB)\n",
            "Requirement already satisfied: nbclient>=0.4.0 in /usr/local/lib/python3.10/dist-packages (from voila) (0.10.0)\n",
            "Requirement already satisfied: nbconvert<8,>=6.4.5 in /usr/local/lib/python3.10/dist-packages (from voila) (6.5.4)\n",
            "Requirement already satisfied: traitlets<6,>=5.0.3 in /usr/local/lib/python3.10/dist-packages (from voila) (5.7.1)\n",
            "Collecting websockets>=9.0 (from voila)\n",
            "  Downloading websockets-13.1-cp310-cp310-manylinux_2_5_x86_64.manylinux1_x86_64.manylinux_2_17_x86_64.manylinux2014_x86_64.whl.metadata (6.8 kB)\n",
            "Requirement already satisfied: python-dateutil>=2.8.2 in /usr/local/lib/python3.10/dist-packages (from jupyter-client<9,>=7.4.4->voila) (2.8.2)\n",
            "Requirement already satisfied: pyzmq>=23.0 in /usr/local/lib/python3.10/dist-packages (from jupyter-client<9,>=7.4.4->voila) (24.0.1)\n",
            "Requirement already satisfied: tornado>=6.2 in /usr/local/lib/python3.10/dist-packages (from jupyter-client<9,>=7.4.4->voila) (6.3.3)\n",
            "Requirement already satisfied: platformdirs>=2.5 in /usr/local/lib/python3.10/dist-packages (from jupyter-core>=4.11.0->voila) (4.3.6)\n",
            "Requirement already satisfied: anyio>=3.1.0 in /usr/local/lib/python3.10/dist-packages (from jupyter-server<3,>=2.0.0->voila) (3.7.1)\n",
            "Requirement already satisfied: argon2-cffi>=21.1 in /usr/local/lib/python3.10/dist-packages (from jupyter-server<3,>=2.0.0->voila) (23.1.0)\n",
            "Requirement already satisfied: jinja2>=3.0.3 in /usr/local/lib/python3.10/dist-packages (from jupyter-server<3,>=2.0.0->voila) (3.1.4)\n",
            "Collecting jupyter-events>=0.9.0 (from jupyter-server<3,>=2.0.0->voila)\n",
            "  Downloading jupyter_events-0.10.0-py3-none-any.whl.metadata (5.9 kB)\n",
            "Collecting jupyter-server-terminals>=0.4.4 (from jupyter-server<3,>=2.0.0->voila)\n",
            "  Downloading jupyter_server_terminals-0.5.3-py3-none-any.whl.metadata (5.6 kB)\n",
            "Requirement already satisfied: nbformat>=5.3.0 in /usr/local/lib/python3.10/dist-packages (from jupyter-server<3,>=2.0.0->voila) (5.10.4)\n",
            "Collecting overrides>=5.0 (from jupyter-server<3,>=2.0.0->voila)\n",
            "  Downloading overrides-7.7.0-py3-none-any.whl.metadata (5.8 kB)\n",
            "Requirement already satisfied: packaging>=22.0 in /usr/local/lib/python3.10/dist-packages (from jupyter-server<3,>=2.0.0->voila) (24.1)\n",
            "Requirement already satisfied: prometheus-client>=0.9 in /usr/local/lib/python3.10/dist-packages (from jupyter-server<3,>=2.0.0->voila) (0.21.0)\n",
            "Requirement already satisfied: send2trash>=1.8.2 in /usr/local/lib/python3.10/dist-packages (from jupyter-server<3,>=2.0.0->voila) (1.8.3)\n",
            "Requirement already satisfied: terminado>=0.8.3 in /usr/local/lib/python3.10/dist-packages (from jupyter-server<3,>=2.0.0->voila) (0.18.1)\n",
            "Requirement already satisfied: websocket-client>=1.7 in /usr/local/lib/python3.10/dist-packages (from jupyter-server<3,>=2.0.0->voila) (1.8.0)\n",
            "Requirement already satisfied: babel>=2.10 in /usr/local/lib/python3.10/dist-packages (from jupyterlab-server<3,>=2.3.0->voila) (2.16.0)\n",
            "Collecting json5>=0.9.0 (from jupyterlab-server<3,>=2.3.0->voila)\n",
            "  Downloading json5-0.9.25-py3-none-any.whl.metadata (30 kB)\n",
            "Requirement already satisfied: jsonschema>=4.18.0 in /usr/local/lib/python3.10/dist-packages (from jupyterlab-server<3,>=2.3.0->voila) (4.23.0)\n",
            "Requirement already satisfied: requests>=2.31 in /usr/local/lib/python3.10/dist-packages (from jupyterlab-server<3,>=2.3.0->voila) (2.32.3)\n",
            "Requirement already satisfied: lxml in /usr/local/lib/python3.10/dist-packages (from nbconvert<8,>=6.4.5->voila) (4.9.4)\n",
            "Requirement already satisfied: beautifulsoup4 in /usr/local/lib/python3.10/dist-packages (from nbconvert<8,>=6.4.5->voila) (4.12.3)\n",
            "Requirement already satisfied: bleach in /usr/local/lib/python3.10/dist-packages (from nbconvert<8,>=6.4.5->voila) (6.1.0)\n",
            "Requirement already satisfied: defusedxml in /usr/local/lib/python3.10/dist-packages (from nbconvert<8,>=6.4.5->voila) (0.7.1)\n",
            "Requirement already satisfied: entrypoints>=0.2.2 in /usr/local/lib/python3.10/dist-packages (from nbconvert<8,>=6.4.5->voila) (0.4)\n",
            "Requirement already satisfied: jupyterlab-pygments in /usr/local/lib/python3.10/dist-packages (from nbconvert<8,>=6.4.5->voila) (0.3.0)\n",
            "Requirement already satisfied: MarkupSafe>=2.0 in /usr/local/lib/python3.10/dist-packages (from nbconvert<8,>=6.4.5->voila) (2.1.5)\n",
            "Requirement already satisfied: mistune<2,>=0.8.1 in /usr/local/lib/python3.10/dist-packages (from nbconvert<8,>=6.4.5->voila) (0.8.4)\n",
            "Requirement already satisfied: pandocfilters>=1.4.1 in /usr/local/lib/python3.10/dist-packages (from nbconvert<8,>=6.4.5->voila) (1.5.1)\n",
            "Requirement already satisfied: pygments>=2.4.1 in /usr/local/lib/python3.10/dist-packages (from nbconvert<8,>=6.4.5->voila) (2.18.0)\n",
            "Requirement already satisfied: tinycss2 in /usr/local/lib/python3.10/dist-packages (from nbconvert<8,>=6.4.5->voila) (1.3.0)\n",
            "Requirement already satisfied: idna>=2.8 in /usr/local/lib/python3.10/dist-packages (from anyio>=3.1.0->jupyter-server<3,>=2.0.0->voila) (3.10)\n",
            "Requirement already satisfied: sniffio>=1.1 in /usr/local/lib/python3.10/dist-packages (from anyio>=3.1.0->jupyter-server<3,>=2.0.0->voila) (1.3.1)\n",
            "Requirement already satisfied: exceptiongroup in /usr/local/lib/python3.10/dist-packages (from anyio>=3.1.0->jupyter-server<3,>=2.0.0->voila) (1.2.2)\n",
            "Requirement already satisfied: argon2-cffi-bindings in /usr/local/lib/python3.10/dist-packages (from argon2-cffi>=21.1->jupyter-server<3,>=2.0.0->voila) (21.2.0)\n",
            "Requirement already satisfied: attrs>=22.2.0 in /usr/local/lib/python3.10/dist-packages (from jsonschema>=4.18.0->jupyterlab-server<3,>=2.3.0->voila) (24.2.0)\n",
            "Requirement already satisfied: jsonschema-specifications>=2023.03.6 in /usr/local/lib/python3.10/dist-packages (from jsonschema>=4.18.0->jupyterlab-server<3,>=2.3.0->voila) (2023.12.1)\n",
            "Requirement already satisfied: referencing>=0.28.4 in /usr/local/lib/python3.10/dist-packages (from jsonschema>=4.18.0->jupyterlab-server<3,>=2.3.0->voila) (0.35.1)\n",
            "Requirement already satisfied: rpds-py>=0.7.1 in /usr/local/lib/python3.10/dist-packages (from jsonschema>=4.18.0->jupyterlab-server<3,>=2.3.0->voila) (0.20.0)\n",
            "Collecting python-json-logger>=2.0.4 (from jupyter-events>=0.9.0->jupyter-server<3,>=2.0.0->voila)\n",
            "  Downloading python_json_logger-2.0.7-py3-none-any.whl.metadata (6.5 kB)\n",
            "Requirement already satisfied: pyyaml>=5.3 in /usr/local/lib/python3.10/dist-packages (from jupyter-events>=0.9.0->jupyter-server<3,>=2.0.0->voila) (6.0.2)\n",
            "Collecting rfc3339-validator (from jupyter-events>=0.9.0->jupyter-server<3,>=2.0.0->voila)\n",
            "  Downloading rfc3339_validator-0.1.4-py2.py3-none-any.whl.metadata (1.5 kB)\n",
            "Collecting rfc3986-validator>=0.1.1 (from jupyter-events>=0.9.0->jupyter-server<3,>=2.0.0->voila)\n",
            "  Downloading rfc3986_validator-0.1.1-py2.py3-none-any.whl.metadata (1.7 kB)\n",
            "Requirement already satisfied: fastjsonschema>=2.15 in /usr/local/lib/python3.10/dist-packages (from nbformat>=5.3.0->jupyter-server<3,>=2.0.0->voila) (2.20.0)\n",
            "Requirement already satisfied: six>=1.5 in /usr/local/lib/python3.10/dist-packages (from python-dateutil>=2.8.2->jupyter-client<9,>=7.4.4->voila) (1.16.0)\n",
            "Requirement already satisfied: charset-normalizer<4,>=2 in /usr/local/lib/python3.10/dist-packages (from requests>=2.31->jupyterlab-server<3,>=2.3.0->voila) (3.3.2)\n",
            "Requirement already satisfied: urllib3<3,>=1.21.1 in /usr/local/lib/python3.10/dist-packages (from requests>=2.31->jupyterlab-server<3,>=2.3.0->voila) (2.2.3)\n",
            "Requirement already satisfied: certifi>=2017.4.17 in /usr/local/lib/python3.10/dist-packages (from requests>=2.31->jupyterlab-server<3,>=2.3.0->voila) (2024.8.30)\n",
            "Requirement already satisfied: ptyprocess in /usr/local/lib/python3.10/dist-packages (from terminado>=0.8.3->jupyter-server<3,>=2.0.0->voila) (0.7.0)\n",
            "Requirement already satisfied: soupsieve>1.2 in /usr/local/lib/python3.10/dist-packages (from beautifulsoup4->nbconvert<8,>=6.4.5->voila) (2.6)\n",
            "Requirement already satisfied: webencodings in /usr/local/lib/python3.10/dist-packages (from bleach->nbconvert<8,>=6.4.5->voila) (0.5.1)\n",
            "Collecting fqdn (from jsonschema[format-nongpl]>=4.18.0->jupyter-events>=0.9.0->jupyter-server<3,>=2.0.0->voila)\n",
            "  Downloading fqdn-1.5.1-py3-none-any.whl.metadata (1.4 kB)\n",
            "Collecting isoduration (from jsonschema[format-nongpl]>=4.18.0->jupyter-events>=0.9.0->jupyter-server<3,>=2.0.0->voila)\n",
            "  Downloading isoduration-20.11.0-py3-none-any.whl.metadata (5.7 kB)\n",
            "Collecting jsonpointer>1.13 (from jsonschema[format-nongpl]>=4.18.0->jupyter-events>=0.9.0->jupyter-server<3,>=2.0.0->voila)\n",
            "  Downloading jsonpointer-3.0.0-py2.py3-none-any.whl.metadata (2.3 kB)\n",
            "Collecting uri-template (from jsonschema[format-nongpl]>=4.18.0->jupyter-events>=0.9.0->jupyter-server<3,>=2.0.0->voila)\n",
            "  Downloading uri_template-1.3.0-py3-none-any.whl.metadata (8.8 kB)\n",
            "Requirement already satisfied: webcolors>=24.6.0 in /usr/local/lib/python3.10/dist-packages (from jsonschema[format-nongpl]>=4.18.0->jupyter-events>=0.9.0->jupyter-server<3,>=2.0.0->voila) (24.8.0)\n",
            "Requirement already satisfied: cffi>=1.0.1 in /usr/local/lib/python3.10/dist-packages (from argon2-cffi-bindings->argon2-cffi>=21.1->jupyter-server<3,>=2.0.0->voila) (1.17.1)\n",
            "Requirement already satisfied: pycparser in /usr/local/lib/python3.10/dist-packages (from cffi>=1.0.1->argon2-cffi-bindings->argon2-cffi>=21.1->jupyter-server<3,>=2.0.0->voila) (2.22)\n",
            "Collecting arrow>=0.15.0 (from isoduration->jsonschema[format-nongpl]>=4.18.0->jupyter-events>=0.9.0->jupyter-server<3,>=2.0.0->voila)\n",
            "  Downloading arrow-1.3.0-py3-none-any.whl.metadata (7.5 kB)\n",
            "Collecting types-python-dateutil>=2.8.10 (from arrow>=0.15.0->isoduration->jsonschema[format-nongpl]>=4.18.0->jupyter-events>=0.9.0->jupyter-server<3,>=2.0.0->voila)\n",
            "  Downloading types_python_dateutil-2.9.0.20241003-py3-none-any.whl.metadata (1.9 kB)\n",
            "Downloading voila-0.5.7-py3-none-any.whl (3.9 MB)\n",
            "\u001b[2K   \u001b[90m━━━━━━━━━━━━━━━━━━━━━━━━━━━━━━━━━━━━━━━━\u001b[0m \u001b[32m3.9/3.9 MB\u001b[0m \u001b[31m36.7 MB/s\u001b[0m eta \u001b[36m0:00:00\u001b[0m\n",
            "\u001b[?25hDownloading jupyter_client-8.6.3-py3-none-any.whl (106 kB)\n",
            "\u001b[2K   \u001b[90m━━━━━━━━━━━━━━━━━━━━━━━━━━━━━━━━━━━━━━━━\u001b[0m \u001b[32m106.1/106.1 kB\u001b[0m \u001b[31m8.1 MB/s\u001b[0m eta \u001b[36m0:00:00\u001b[0m\n",
            "\u001b[?25hDownloading jupyter_server-2.14.2-py3-none-any.whl (383 kB)\n",
            "\u001b[2K   \u001b[90m━━━━━━━━━━━━━━━━━━━━━━━━━━━━━━━━━━━━━━━━\u001b[0m \u001b[32m383.6/383.6 kB\u001b[0m \u001b[31m23.2 MB/s\u001b[0m eta \u001b[36m0:00:00\u001b[0m\n",
            "\u001b[?25hDownloading jupyterlab_server-2.27.3-py3-none-any.whl (59 kB)\n",
            "\u001b[2K   \u001b[90m━━━━━━━━━━━━━━━━━━━━━━━━━━━━━━━━━━━━━━━━\u001b[0m \u001b[32m59.7/59.7 kB\u001b[0m \u001b[31m3.8 MB/s\u001b[0m eta \u001b[36m0:00:00\u001b[0m\n",
            "\u001b[?25hDownloading websockets-13.1-cp310-cp310-manylinux_2_5_x86_64.manylinux1_x86_64.manylinux_2_17_x86_64.manylinux2014_x86_64.whl (164 kB)\n",
            "\u001b[2K   \u001b[90m━━━━━━━━━━━━━━━━━━━━━━━━━━━━━━━━━━━━━━━━\u001b[0m \u001b[32m164.1/164.1 kB\u001b[0m \u001b[31m12.7 MB/s\u001b[0m eta \u001b[36m0:00:00\u001b[0m\n",
            "\u001b[?25hDownloading json5-0.9.25-py3-none-any.whl (30 kB)\n",
            "Downloading jupyter_events-0.10.0-py3-none-any.whl (18 kB)\n",
            "Downloading jupyter_server_terminals-0.5.3-py3-none-any.whl (13 kB)\n",
            "Downloading overrides-7.7.0-py3-none-any.whl (17 kB)\n",
            "Downloading python_json_logger-2.0.7-py3-none-any.whl (8.1 kB)\n",
            "Downloading rfc3986_validator-0.1.1-py2.py3-none-any.whl (4.2 kB)\n",
            "Downloading rfc3339_validator-0.1.4-py2.py3-none-any.whl (3.5 kB)\n",
            "Downloading jsonpointer-3.0.0-py2.py3-none-any.whl (7.6 kB)\n",
            "Downloading fqdn-1.5.1-py3-none-any.whl (9.1 kB)\n",
            "Downloading isoduration-20.11.0-py3-none-any.whl (11 kB)\n",
            "Downloading uri_template-1.3.0-py3-none-any.whl (11 kB)\n",
            "Downloading arrow-1.3.0-py3-none-any.whl (66 kB)\n",
            "\u001b[2K   \u001b[90m━━━━━━━━━━━━━━━━━━━━━━━━━━━━━━━━━━━━━━━━\u001b[0m \u001b[32m66.4/66.4 kB\u001b[0m \u001b[31m4.1 MB/s\u001b[0m eta \u001b[36m0:00:00\u001b[0m\n",
            "\u001b[?25hDownloading types_python_dateutil-2.9.0.20241003-py3-none-any.whl (9.7 kB)\n",
            "Installing collected packages: websockets, uri-template, types-python-dateutil, rfc3986-validator, rfc3339-validator, python-json-logger, overrides, jsonpointer, json5, fqdn, jupyter-server-terminals, jupyter-client, arrow, isoduration, jupyter-events, jupyter-server, jupyterlab-server, voila\n",
            "  Attempting uninstall: jupyter-client\n",
            "    Found existing installation: jupyter-client 6.1.12\n",
            "    Uninstalling jupyter-client-6.1.12:\n",
            "      Successfully uninstalled jupyter-client-6.1.12\n",
            "  Attempting uninstall: jupyter-server\n",
            "    Found existing installation: jupyter-server 1.24.0\n",
            "    Uninstalling jupyter-server-1.24.0:\n",
            "      Successfully uninstalled jupyter-server-1.24.0\n",
            "\u001b[31mERROR: pip's dependency resolver does not currently take into account all the packages that are installed. This behaviour is the source of the following dependency conflicts.\n",
            "notebook 6.5.5 requires jupyter-client<8,>=5.3.4, but you have jupyter-client 8.6.3 which is incompatible.\u001b[0m\u001b[31m\n",
            "\u001b[0mSuccessfully installed arrow-1.3.0 fqdn-1.5.1 isoduration-20.11.0 json5-0.9.25 jsonpointer-3.0.0 jupyter-client-8.6.3 jupyter-events-0.10.0 jupyter-server-2.14.2 jupyter-server-terminals-0.5.3 jupyterlab-server-2.27.3 overrides-7.7.0 python-json-logger-2.0.7 rfc3339-validator-0.1.4 rfc3986-validator-0.1.1 types-python-dateutil-2.9.0.20241003 uri-template-1.3.0 voila-0.5.7 websockets-13.1\n",
            "Enabling: voila\n",
            "- Writing config: /usr/etc/jupyter\n",
            "    - Validating...\n",
            "      voila 0.5.7 \u001b[32mOK\u001b[0m\n"
          ]
        }
      ],
      "source": [
        "#hide\n",
        "!pip install voila\n",
        "!jupyter serverextension enable --sys-prefix voila"
      ]
    },
    {
      "cell_type": "code",
      "source": [
        "path = Path()\n",
        "learn_inf = load_learner('export.pkl', cpu=True)\n",
        "btn_upload = widgets.FileUpload()\n",
        "out_pl = widgets.Output()\n",
        "lbl_pred = widgets.Label()"
      ],
      "metadata": {
        "id": "WblNrXC5E4VU"
      },
      "execution_count": 4,
      "outputs": []
    },
    {
      "cell_type": "code",
      "source": [
        "def on_data_change(change):\n",
        "    lbl_pred.value = ''\n",
        "    img = PILImage.create(btn_upload.data[-1])\n",
        "    out_pl.clear_output()\n",
        "    with out_pl: display(img.to_thumb(128,128))\n",
        "    pred,pred_idx,probs = learn_inf.predict(img)\n",
        "    lbl_pred.value = f'Prediction: {pred}; Probability: {probs[pred_idx]:.04f}'"
      ],
      "metadata": {
        "id": "magbJRCvFoj2"
      },
      "execution_count": 5,
      "outputs": []
    },
    {
      "cell_type": "code",
      "source": [
        "btn_upload.observe(on_data_change, names=['data'])"
      ],
      "metadata": {
        "id": "J1MrSqpAGAKk"
      },
      "execution_count": 6,
      "outputs": []
    },
    {
      "cell_type": "code",
      "source": [
        "display(VBox([widgets.Label('Select your bear!'), btn_upload, out_pl, lbl_pred]))"
      ],
      "metadata": {
        "colab": {
          "base_uri": "https://localhost:8080/",
          "height": 198,
          "referenced_widgets": [
            "84198565f5c14a06b481eecd1b0dd1bb",
            "516ca567503642a984422954eee99c67",
            "0d906c7854df45a1af946860ad0a5864",
            "6418b6575e3643bcb375b906c96dbb6a",
            "7df6ecf46a4f4bd1b6b9787bd927991e",
            "1519b7510b2e46c6a7864dae53e8ba84",
            "17d25682888f44e7aac0cbc59ddcadee",
            "0a5465d7380b4367928414e2896c0936",
            "ae30d8f4d185491eb919907fffb46072",
            "c4d3ee090ac04ee6a26c3a394fef40fd",
            "d4548cd89f1b48dfa8f1e7e7f260723c",
            "2b35cf79614a4223817882861657d5ad",
            "ae7fcee0efaf48208d8515f7e25b250e"
          ]
        },
        "id": "yk1WFLGQGCaq",
        "outputId": "bedfa7b4-b99c-496a-f193-c31037962d02"
      },
      "execution_count": 7,
      "outputs": [
        {
          "output_type": "display_data",
          "data": {
            "text/plain": [
              "VBox(children=(Label(value='Select your bear!'), FileUpload(value={}, description='Upload'), Output(), Label(v…"
            ],
            "application/vnd.jupyter.widget-view+json": {
              "version_major": 2,
              "version_minor": 0,
              "model_id": "84198565f5c14a06b481eecd1b0dd1bb"
            }
          },
          "metadata": {}
        },
        {
          "output_type": "display_data",
          "data": {
            "text/plain": [
              "<IPython.core.display.HTML object>"
            ],
            "text/html": [
              "\n",
              "<style>\n",
              "    /* Turns off some styling */\n",
              "    progress {\n",
              "        /* gets rid of default border in Firefox and Opera. */\n",
              "        border: none;\n",
              "        /* Needs to be in here for Safari polyfill so background images work as expected. */\n",
              "        background-size: auto;\n",
              "    }\n",
              "    progress:not([value]), progress:not([value])::-webkit-progress-bar {\n",
              "        background: repeating-linear-gradient(45deg, #7e7e7e, #7e7e7e 10px, #5c5c5c 10px, #5c5c5c 20px);\n",
              "    }\n",
              "    .progress-bar-interrupted, .progress-bar-interrupted::-webkit-progress-bar {\n",
              "        background: #F44336;\n",
              "    }\n",
              "</style>\n"
            ]
          },
          "metadata": {}
        },
        {
          "output_type": "display_data",
          "data": {
            "text/plain": [
              "<IPython.core.display.HTML object>"
            ],
            "text/html": []
          },
          "metadata": {}
        }
      ]
    },
    {
      "cell_type": "code",
      "source": [],
      "metadata": {
        "id": "UGGzeIifGEZp"
      },
      "execution_count": null,
      "outputs": []
    }
  ]
}